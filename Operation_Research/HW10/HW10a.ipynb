{
 "cells": [
  {
   "cell_type": "code",
   "execution_count": 3,
   "metadata": {},
   "outputs": [
    {
     "name": "stdout",
     "output_type": "stream",
     "text": [
      "Gurobi Optimizer version 10.0.3 build v10.0.3rc0 (mac64[arm])\n",
      "\n",
      "CPU model: Apple M1 Pro\n",
      "Thread count: 8 physical cores, 8 logical processors, using up to 8 threads\n",
      "\n",
      "Optimize a model with 1 rows, 3 columns and 3 nonzeros\n",
      "Model fingerprint: 0x79eb12dc\n",
      "Variable types: 0 continuous, 3 integer (0 binary)\n",
      "Coefficient statistics:\n",
      "  Matrix range     [1e+00, 3e+00]\n",
      "  Objective range  [1e+01, 5e+01]\n",
      "  Bounds range     [0e+00, 0e+00]\n",
      "  RHS range        [4e+00, 4e+00]\n",
      "Found heuristic solution: objective 62.0000000\n",
      "Presolve removed 1 rows and 3 columns\n",
      "Presolve time: 0.00s\n",
      "Presolve: All rows and columns removed\n",
      "\n",
      "Explored 0 nodes (0 simplex iterations) in 0.01 seconds (0.00 work units)\n",
      "Thread count was 1 (of 8 available processors)\n",
      "\n",
      "Solution count 1: 62 \n",
      "\n",
      "Optimal solution found (tolerance 1.00e-04)\n",
      "Best objective 6.200000000000e+01, best bound 6.200000000000e+01, gap 0.0000%\n",
      "m1: 2.000000\n",
      "m2: 0.000000\n",
      "m3: 0.000000\n",
      "Obj: 62.000000\n"
     ]
    }
   ],
   "source": [
    "from gurobipy import Model, GRB\n",
    "\n",
    "model = Model(\"lp\")\n",
    "m1 = model.addVar(vtype='I', name=\"m1\")\n",
    "m2 = model.addVar(vtype='I', name=\"m2\")\n",
    "m3 = model.addVar(vtype='I', name=\"m3\")\n",
    "w = [2, 3, 1]\n",
    "v = [31, 47, 14]\n",
    "\n",
    "model.update()\n",
    "model.setObjective(v[0]*m1 + v[1]*m2 + v[2]*m3, GRB.MAXIMIZE)\n",
    "model.addConstr(w[0]*m1 + w[1]*m2+ w[2]*m3 <= 4)\n",
    "model.optimize()\n",
    "\n",
    "for v in model.getVars():\n",
    "    print('%s: %f' % (v.varName, v.x))\n",
    "print('Obj: %f' % model.objVal)"
   ]
  }
 ],
 "metadata": {
  "kernelspec": {
   "display_name": "base",
   "language": "python",
   "name": "python3"
  },
  "language_info": {
   "codemirror_mode": {
    "name": "ipython",
    "version": 3
   },
   "file_extension": ".py",
   "mimetype": "text/x-python",
   "name": "python",
   "nbconvert_exporter": "python",
   "pygments_lexer": "ipython3",
   "version": "3.11.6"
  }
 },
 "nbformat": 4,
 "nbformat_minor": 2
}
