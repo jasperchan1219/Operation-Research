{
 "cells": [
  {
   "cell_type": "code",
   "execution_count": 3,
   "metadata": {},
   "outputs": [
    {
     "name": "stdout",
     "output_type": "stream",
     "text": [
      "z: 5300.0\n",
      "ShadowPrice is: 78.57142857142844\n"
     ]
    }
   ],
   "source": [
    "import numpy as np\n",
    "A = np.matrix([\n",
    "    [6, 5],    \n",
    "    [10, 20],\n",
    "])\n",
    "b = np.matrix([\n",
    "    [62],\n",
    "    [150]\n",
    "])\n",
    "X = np.linalg.solve(A,b)\n",
    "x1 = X[0,0]\n",
    "x2 = X[1,0]\n",
    "z = 500*x1 + 450*x2\n",
    "print(\"z: \"+str(z))\n",
    "print(\"ShadowPrice is: \"+str(z-(5221*7+3)/7))\n"
   ]
  }
 ],
 "metadata": {
  "kernelspec": {
   "display_name": "Python 3",
   "language": "python",
   "name": "python3"
  },
  "language_info": {
   "codemirror_mode": {
    "name": "ipython",
    "version": 3
   },
   "file_extension": ".py",
   "mimetype": "text/x-python",
   "name": "python",
   "nbconvert_exporter": "python",
   "pygments_lexer": "ipython3",
   "version": "3.9.12"
  },
  "orig_nbformat": 4
 },
 "nbformat": 4,
 "nbformat_minor": 2
}
