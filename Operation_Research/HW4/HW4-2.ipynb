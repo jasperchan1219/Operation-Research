{
 "cells": [
  {
   "cell_type": "code",
   "execution_count": 3,
   "metadata": {},
   "outputs": [
    {
     "name": "stdout",
     "output_type": "stream",
     "text": [
      "Gurobi Optimizer version 10.0.3 build v10.0.3rc0 (mac64[arm])\n",
      "\n",
      "CPU model: Apple M1 Pro\n",
      "Thread count: 8 physical cores, 8 logical processors, using up to 8 threads\n",
      "\n",
      "Optimize a model with 3 rows, 3 columns and 9 nonzeros\n",
      "Model fingerprint: 0xec5ed2c0\n",
      "Coefficient statistics:\n",
      "  Matrix range     [1e+00, 5e+00]\n",
      "  Objective range  [2e+00, 4e+00]\n",
      "  Bounds range     [0e+00, 0e+00]\n",
      "  RHS range        [6e+00, 2e+01]\n",
      "Presolve removed 0 rows and 1 columns\n",
      "Presolve time: 0.00s\n",
      "Presolved: 3 rows, 2 columns, 6 nonzeros\n",
      "\n",
      "Iteration    Objective       Primal Inf.    Dual Inf.      Time\n",
      "       0    0.0000000e+00   1.337500e+01   0.000000e+00      0s\n",
      "       1    2.0000000e+01   0.000000e+00   0.000000e+00      0s\n",
      "\n",
      "Solved in 1 iterations and 0.00 seconds (0.00 work units)\n",
      "Optimal objective  2.000000000e+01\n",
      "x1: 10.000000\n",
      "x2: 0.000000\n",
      "x3: 0.000000\n",
      "Obj: 20.000000\n",
      "reduced costs: \n",
      "    [0.0, 5.0, 2.0]\n",
      "shadow prices: \n",
      "    [2.0, 0.0, 0.0]\n"
     ]
    }
   ],
   "source": [
    "from gurobipy import Model, GRB\n",
    "\n",
    "m = Model(\"lp1\")\n",
    "x1 = m.addVar(name=\"x1\")\n",
    "x2 = m.addVar(name=\"x2\")\n",
    "x3 = m.addVar(name=\"x3\")\n",
    "c = [2, 3, 4]\n",
    "a1 = [1, -1, 1]\n",
    "b1 = 10\n",
    "a2 = [1, -2, 3]\n",
    "b2 = 6\n",
    "a3 = [3, -4, 5]\n",
    "b3 = 15\n",
    "\n",
    "m.update()\n",
    "m.setObjective(c[0]*x1 + c[1]*x2 + c[2]*x3, GRB.MINIMIZE)\n",
    "m.addConstr(a1[0]*x1 + a1[1]*x2+ a1[2]*x3 >= b1)\n",
    "m.addConstr(a2[0]*x1 + a2[1]*x2+ a2[2]*x3 >= b2)\n",
    "m.addConstr(a3[0]*x1 + a3[1]*x2+ a3[2]*x3 >= b3)\n",
    "m.optimize()\n",
    "\n",
    "for v in m.getVars():\n",
    "    print('%s: %f' % (v.varName, v.x))\n",
    "print('Obj: %f' % m.objVal)\n",
    "print('reduced costs: ' )\n",
    "print('   ', m.getAttr(GRB.Attr.RC)) # reduce costs\n",
    "print('shadow prices: ' )\n",
    "print('   ', m.getAttr(GRB.Attr.Pi)) # shadow prices"
   ]
  }
 ],
 "metadata": {
  "kernelspec": {
   "display_name": "base",
   "language": "python",
   "name": "python3"
  },
  "language_info": {
   "codemirror_mode": {
    "name": "ipython",
    "version": 3
   },
   "file_extension": ".py",
   "mimetype": "text/x-python",
   "name": "python",
   "nbconvert_exporter": "python",
   "pygments_lexer": "ipython3",
   "version": "3.11.5"
  }
 },
 "nbformat": 4,
 "nbformat_minor": 2
}
