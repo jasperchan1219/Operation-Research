{
 "cells": [
  {
   "cell_type": "code",
   "execution_count": 6,
   "metadata": {},
   "outputs": [
    {
     "name": "stdout",
     "output_type": "stream",
     "text": [
      "Gurobi Optimizer version 10.0.3 build v10.0.3rc0 (mac64[arm])\n",
      "\n",
      "CPU model: Apple M1 Pro\n",
      "Thread count: 8 physical cores, 8 logical processors, using up to 8 threads\n",
      "\n",
      "Optimize a model with 4 rows, 2 columns and 7 nonzeros\n",
      "Model fingerprint: 0xd6672682\n",
      "Coefficient statistics:\n",
      "  Matrix range     [1e+00, 6e+00]\n",
      "  Objective range  [4e+00, 5e+00]\n",
      "  Bounds range     [0e+00, 0e+00]\n",
      "  RHS range        [1e+00, 2e+01]\n",
      "Presolve removed 1 rows and 0 columns\n",
      "Presolve time: 0.00s\n",
      "Presolved: 3 rows, 2 columns, 6 nonzeros\n",
      "\n",
      "Iteration    Objective       Primal Inf.    Dual Inf.      Time\n",
      "       0    2.4000000e+01   1.200000e+01   0.000000e+00      0s\n",
      "       3    2.1000000e+01   0.000000e+00   0.000000e+00      0s\n",
      "\n",
      "Solved in 3 iterations and 0.01 seconds (0.00 work units)\n",
      "Optimal objective  2.100000000e+01\n",
      "x1: 3.000000\n",
      "x2: 1.500000\n",
      "Obj: 21.000000\n",
      "reduced costs: \n",
      "    [0.0, 0.0]\n",
      "shadow prices: \n",
      "    [0.75, 0.5, 0.0, 0.0]\n"
     ]
    }
   ],
   "source": [
    "from gurobipy import Model, GRB\n",
    "\n",
    "m = Model(\"lp1\")\n",
    "x1 = m.addVar(name=\"x1\")\n",
    "x2 = m.addVar(name=\"x2\")\n",
    "c = [5, 4]\n",
    "a1 = [6, 4]\n",
    "b1 = 24\n",
    "a2 = [1, 2]\n",
    "b2 = 6\n",
    "a3 = [-1, 1]\n",
    "b3 = 1\n",
    "a4 = [0, 1]\n",
    "b4 = 2\n",
    "\n",
    "m.update()\n",
    "m.setObjective(c[0]*x1 + c[1]*x2, GRB.MAXIMIZE)\n",
    "m.addConstr(a1[0]*x1 + a1[1]*x2 <= b1)\n",
    "m.addConstr(a2[0]*x1 + a2[1]*x2 <= b2)\n",
    "m.addConstr(a3[0]*x1 + a3[1]*x2 <= b3)\n",
    "m.addConstr(a4[0]*x1 + a4[1]*x2 <= b4)\n",
    "m.optimize()\n",
    "for v in m.getVars():\n",
    "    print('%s: %f' % (v.varName, v.x))\n",
    "print('Obj: %f' % m.objVal)\n",
    "print('reduced costs: ' )\n",
    "print('   ', m.getAttr(GRB.Attr.RC)) # reduce costs\n",
    "print('shadow prices: ' )\n",
    "print('   ', m.getAttr(GRB.Attr.Pi)) # shadow prices"
   ]
  }
 ],
 "metadata": {
  "kernelspec": {
   "display_name": "base",
   "language": "python",
   "name": "python3"
  },
  "language_info": {
   "codemirror_mode": {
    "name": "ipython",
    "version": 3
   },
   "file_extension": ".py",
   "mimetype": "text/x-python",
   "name": "python",
   "nbconvert_exporter": "python",
   "pygments_lexer": "ipython3",
   "version": "3.11.5"
  }
 },
 "nbformat": 4,
 "nbformat_minor": 2
}
