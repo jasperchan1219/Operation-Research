{
 "cells": [
  {
   "cell_type": "code",
   "execution_count": 6,
   "metadata": {},
   "outputs": [
    {
     "name": "stdout",
     "output_type": "stream",
     "text": [
      "Optimal from MIP solver:\n",
      "x1: 2.222222\n",
      "x2: 5.555556\n",
      "Obj: 21.111111\n"
     ]
    }
   ],
   "source": [
    "from gurobipy import *\n",
    "m = Model(\"L0\")\n",
    "x1 = m.addVar(vtype='C', name=\"x1\", obj = 2)\n",
    "x2 = m.addVar(vtype='C', name=\"x2\", obj = 3)\n",
    "m.setAttr('ModelSense', GRB.MAXIMIZE)\n",
    "# Variables and attributes are set in a lazy fashion\n",
    "# in Gurobi. You need to update() to make it effective.\n",
    "m.update()\n",
    "m.addConstr(2 * x1 + x2 <= 10, \"c0\")\n",
    "m.addConstr(15 * x1 + 30 * x2 <= 200,\"c1\")\n",
    "m.setParam('OutputFlag', False )\n",
    "m.optimize()\n",
    "print('Optimal from MIP solver:')\n",
    "for v in m.getVars():\n",
    "    print('%s: %f' % (v.varName, v.x))\n",
    "print('Obj: %f' % m.objVal)"
   ]
  },
  {
   "cell_type": "code",
   "execution_count": 7,
   "metadata": {},
   "outputs": [
    {
     "name": "stdout",
     "output_type": "stream",
     "text": [
      "Optimal from MIP solver:\n",
      "x1: 2.500000\n",
      "x2: 5.000000\n",
      "Obj: 20.000000\n"
     ]
    }
   ],
   "source": [
    "m = Model(\"L1\")\n",
    "x1 = m.addVar(vtype='C', name=\"x1\", obj = 2)\n",
    "x2 = m.addVar(vtype='C', name=\"x2\", obj = 3)\n",
    "m.setAttr('ModelSense', GRB.MAXIMIZE)\n",
    "# Variables and attributes are set in a lazy fashion\n",
    "# in Gurobi. You need to update() to make it effective.\n",
    "m.update()\n",
    "m.addConstr(2 * x1 + x2 <= 10, \"c0\")\n",
    "m.addConstr(15 * x1 + 30 * x2 <= 200,\"c1\")\n",
    "m.addConstr(x2 <= 5,\"c2\")\n",
    "m.setParam('OutputFlag', False )\n",
    "m.optimize()\n",
    "print('Optimal from MIP solver:')\n",
    "for v in m.getVars():\n",
    "    print('%s: %f' % (v.varName, v.x))\n",
    "print('Obj: %f' % m.objVal)"
   ]
  },
  {
   "cell_type": "code",
   "execution_count": 9,
   "metadata": {},
   "outputs": [
    {
     "name": "stdout",
     "output_type": "stream",
     "text": [
      "Optimal from MIP solver:\n",
      "x1: 1.333333\n",
      "x2: 6.000000\n",
      "Obj: 20.666667\n"
     ]
    }
   ],
   "source": [
    "m = Model(\"L2\")\n",
    "x1 = m.addVar(vtype='C', name=\"x1\", obj = 2)\n",
    "x2 = m.addVar(vtype='C', name=\"x2\", obj = 3)\n",
    "m.setAttr('ModelSense', GRB.MAXIMIZE)\n",
    "# Variables and attributes are set in a lazy fashion\n",
    "# in Gurobi. You need to update() to make it effective.\n",
    "m.update()\n",
    "m.addConstr(2 * x1 + x2 <= 10, \"c0\")\n",
    "m.addConstr(15 * x1 + 30 * x2 <= 200,\"c1\")\n",
    "m.addConstr(x2 >= 6,\"c2\")\n",
    "m.setParam('OutputFlag', False )\n",
    "m.optimize()\n",
    "print('Optimal from MIP solver:')\n",
    "for v in m.getVars():\n",
    "    print('%s: %f' % (v.varName, v.x))\n",
    "print('Obj: %f' % m.objVal)"
   ]
  },
  {
   "cell_type": "code",
   "execution_count": 10,
   "metadata": {},
   "outputs": [
    {
     "name": "stdout",
     "output_type": "stream",
     "text": [
      "Optimal from MIP solver:\n",
      "x1: 2.000000\n",
      "x2: 5.000000\n",
      "Obj: 19.000000\n"
     ]
    }
   ],
   "source": [
    "m = Model(\"L3\")\n",
    "x1 = m.addVar(vtype='C', name=\"x1\", obj = 2)\n",
    "x2 = m.addVar(vtype='C', name=\"x2\", obj = 3)\n",
    "m.setAttr('ModelSense', GRB.MAXIMIZE)\n",
    "# Variables and attributes are set in a lazy fashion\n",
    "# in Gurobi. You need to update() to make it effective.\n",
    "m.update()\n",
    "m.addConstr(2 * x1 + x2 <= 10, \"c0\")\n",
    "m.addConstr(15 * x1 + 30 * x2 <= 200,\"c1\")\n",
    "m.addConstr(x2 <= 5,\"c2\")\n",
    "m.addConstr(x1 <= 2,\"c3\")\n",
    "m.setParam('OutputFlag', False )\n",
    "m.optimize()\n",
    "print('Optimal from MIP solver:')\n",
    "for v in m.getVars():\n",
    "    print('%s: %f' % (v.varName, v.x))\n",
    "print('Obj: %f' % m.objVal)"
   ]
  },
  {
   "cell_type": "code",
   "execution_count": 11,
   "metadata": {},
   "outputs": [
    {
     "name": "stdout",
     "output_type": "stream",
     "text": [
      "Optimal from MIP solver:\n",
      "x1: 3.000000\n",
      "x2: 4.000000\n",
      "Obj: 18.000000\n"
     ]
    }
   ],
   "source": [
    "m = Model(\"L4\")\n",
    "x1 = m.addVar(vtype='C', name=\"x1\", obj = 2)\n",
    "x2 = m.addVar(vtype='C', name=\"x2\", obj = 3)\n",
    "m.setAttr('ModelSense', GRB.MAXIMIZE)\n",
    "# Variables and attributes are set in a lazy fashion\n",
    "# in Gurobi. You need to update() to make it effective.\n",
    "m.update()\n",
    "m.addConstr(2 * x1 + x2 <= 10, \"c0\")\n",
    "m.addConstr(15 * x1 + 30 * x2 <= 200,\"c1\")\n",
    "m.addConstr(x2 <= 5,\"c2\")\n",
    "m.addConstr(x1 >= 3,\"c3\")\n",
    "m.setParam('OutputFlag', False )\n",
    "m.optimize()\n",
    "print('Optimal from MIP solver:')\n",
    "for v in m.getVars():\n",
    "    print('%s: %f' % (v.varName, v.x))\n",
    "print('Obj: %f' % m.objVal)"
   ]
  },
  {
   "cell_type": "code",
   "execution_count": 12,
   "metadata": {},
   "outputs": [
    {
     "name": "stdout",
     "output_type": "stream",
     "text": [
      "Optimal from MIP solver:\n",
      "x1: 1.000000\n",
      "x2: 6.166667\n",
      "Obj: 20.500000\n"
     ]
    }
   ],
   "source": [
    "m = Model(\"L5\")\n",
    "x1 = m.addVar(vtype='C', name=\"x1\", obj = 2)\n",
    "x2 = m.addVar(vtype='C', name=\"x2\", obj = 3)\n",
    "m.setAttr('ModelSense', GRB.MAXIMIZE)\n",
    "# Variables and attributes are set in a lazy fashion\n",
    "# in Gurobi. You need to update() to make it effective.\n",
    "m.update()\n",
    "m.addConstr(2 * x1 + x2 <= 10, \"c0\")\n",
    "m.addConstr(15 * x1 + 30 * x2 <= 200,\"c1\")\n",
    "m.addConstr(x2 >= 6,\"c2\")\n",
    "m.addConstr(x1 <= 1,\"c3\")\n",
    "m.setParam('OutputFlag', False )\n",
    "m.optimize()\n",
    "print('Optimal from MIP solver:')\n",
    "for v in m.getVars():\n",
    "    print('%s: %f' % (v.varName, v.x))\n",
    "print('Obj: %f' % m.objVal)"
   ]
  },
  {
   "cell_type": "code",
   "execution_count": 13,
   "metadata": {},
   "outputs": [
    {
     "name": "stdout",
     "output_type": "stream",
     "text": [
      "Optimal from MIP solver:\n"
     ]
    },
    {
     "ename": "AttributeError",
     "evalue": "Unable to retrieve attribute 'x'",
     "output_type": "error",
     "traceback": [
      "\u001b[0;31m---------------------------------------------------------------------------\u001b[0m",
      "\u001b[0;31mAttributeError\u001b[0m                            Traceback (most recent call last)",
      "\u001b[1;32m/Users/jasper/Operation Research/HW8/HW8.ipynb 儲存格 7\u001b[0m line \u001b[0;36m1\n\u001b[1;32m     <a href='vscode-notebook-cell:/Users/jasper/Operation%20Research/HW8/HW8.ipynb#W5sZmlsZQ%3D%3D?line=13'>14</a>\u001b[0m \u001b[39mprint\u001b[39m(\u001b[39m'\u001b[39m\u001b[39mOptimal from MIP solver:\u001b[39m\u001b[39m'\u001b[39m)\n\u001b[1;32m     <a href='vscode-notebook-cell:/Users/jasper/Operation%20Research/HW8/HW8.ipynb#W5sZmlsZQ%3D%3D?line=14'>15</a>\u001b[0m \u001b[39mfor\u001b[39;00m v \u001b[39min\u001b[39;00m m\u001b[39m.\u001b[39mgetVars():\n\u001b[0;32m---> <a href='vscode-notebook-cell:/Users/jasper/Operation%20Research/HW8/HW8.ipynb#W5sZmlsZQ%3D%3D?line=15'>16</a>\u001b[0m     \u001b[39mprint\u001b[39m(\u001b[39m'\u001b[39m\u001b[39m%s\u001b[39;00m\u001b[39m: \u001b[39m\u001b[39m%f\u001b[39;00m\u001b[39m'\u001b[39m \u001b[39m%\u001b[39m (v\u001b[39m.\u001b[39mvarName, v\u001b[39m.\u001b[39mx))\n\u001b[1;32m     <a href='vscode-notebook-cell:/Users/jasper/Operation%20Research/HW8/HW8.ipynb#W5sZmlsZQ%3D%3D?line=16'>17</a>\u001b[0m \u001b[39mprint\u001b[39m(\u001b[39m'\u001b[39m\u001b[39mObj: \u001b[39m\u001b[39m%f\u001b[39;00m\u001b[39m'\u001b[39m \u001b[39m%\u001b[39m m\u001b[39m.\u001b[39mobjVal)\n",
      "File \u001b[0;32msrc/gurobipy/var.pxi:125\u001b[0m, in \u001b[0;36mgurobipy.Var.__getattr__\u001b[0;34m()\u001b[0m\n",
      "File \u001b[0;32msrc/gurobipy/var.pxi:153\u001b[0m, in \u001b[0;36mgurobipy.Var.getAttr\u001b[0;34m()\u001b[0m\n",
      "File \u001b[0;32msrc/gurobipy/attrutil.pxi:100\u001b[0m, in \u001b[0;36mgurobipy.__getattr\u001b[0;34m()\u001b[0m\n",
      "\u001b[0;31mAttributeError\u001b[0m: Unable to retrieve attribute 'x'"
     ]
    }
   ],
   "source": [
    "m = Model(\"L6\")\n",
    "x1 = m.addVar(vtype='C', name=\"x1\", obj = 2)\n",
    "x2 = m.addVar(vtype='C', name=\"x2\", obj = 3)\n",
    "m.setAttr('ModelSense', GRB.MAXIMIZE)\n",
    "# Variables and attributes are set in a lazy fashion\n",
    "# in Gurobi. You need to update() to make it effective.\n",
    "m.update()\n",
    "m.addConstr(2 * x1 + x2 <= 10, \"c0\")\n",
    "m.addConstr(15 * x1 + 30 * x2 <= 200,\"c1\")\n",
    "m.addConstr(x2 >= 6,\"c2\")\n",
    "m.addConstr(x1 >= 2,\"c3\")\n",
    "m.setParam('OutputFlag', False )\n",
    "m.optimize()\n",
    "print('Optimal from MIP solver:')\n",
    "for v in m.getVars():\n",
    "    print('%s: %f' % (v.varName, v.x))\n",
    "print('Obj: %f' % m.objVal)"
   ]
  },
  {
   "cell_type": "code",
   "execution_count": 17,
   "metadata": {},
   "outputs": [
    {
     "name": "stdout",
     "output_type": "stream",
     "text": [
      "Optimal from MIP solver:\n",
      "x1: 1.000000\n",
      "x2: 6.000000\n",
      "Obj: 20.000000\n"
     ]
    }
   ],
   "source": [
    "m = Model(\"L7\")\n",
    "x1 = m.addVar(vtype='C', name=\"x1\", obj = 2)\n",
    "x2 = m.addVar(vtype='C', name=\"x2\", obj = 3)\n",
    "m.setAttr('ModelSense', GRB.MAXIMIZE)\n",
    "# Variables and attributes are set in a lazy fashion\n",
    "# in Gurobi. You need to update() to make it effective.\n",
    "m.update()\n",
    "m.addConstr(2 * x1 + x2 <= 10, \"c0\")\n",
    "m.addConstr(15 * x1 + 30 * x2 <= 200,\"c1\")\n",
    "m.addConstr(x2 >= 6,\"c2\")\n",
    "m.addConstr(x1 <= 1,\"c3\")\n",
    "m.addConstr(x2 <= 6,\"c4\")\n",
    "m.setParam('OutputFlag', False )\n",
    "m.optimize()\n",
    "print('Optimal from MIP solver:')\n",
    "for v in m.getVars():\n",
    "    print('%s: %f' % (v.varName, v.x))\n",
    "print('Obj: %f' % m.objVal)"
   ]
  },
  {
   "cell_type": "code",
   "execution_count": 18,
   "metadata": {},
   "outputs": [
    {
     "name": "stdout",
     "output_type": "stream",
     "text": [
      "Optimal from MIP solver:\n"
     ]
    },
    {
     "ename": "AttributeError",
     "evalue": "Unable to retrieve attribute 'x'",
     "output_type": "error",
     "traceback": [
      "\u001b[0;31m---------------------------------------------------------------------------\u001b[0m",
      "\u001b[0;31mAttributeError\u001b[0m                            Traceback (most recent call last)",
      "\u001b[1;32m/Users/jasper/Operation Research/HW8/HW8.ipynb 儲存格 9\u001b[0m line \u001b[0;36m1\n\u001b[1;32m     <a href='vscode-notebook-cell:/Users/jasper/Operation%20Research/HW8/HW8.ipynb#X11sZmlsZQ%3D%3D?line=13'>14</a>\u001b[0m \u001b[39mprint\u001b[39m(\u001b[39m'\u001b[39m\u001b[39mOptimal from MIP solver:\u001b[39m\u001b[39m'\u001b[39m)\n\u001b[1;32m     <a href='vscode-notebook-cell:/Users/jasper/Operation%20Research/HW8/HW8.ipynb#X11sZmlsZQ%3D%3D?line=14'>15</a>\u001b[0m \u001b[39mfor\u001b[39;00m v \u001b[39min\u001b[39;00m m\u001b[39m.\u001b[39mgetVars():\n\u001b[0;32m---> <a href='vscode-notebook-cell:/Users/jasper/Operation%20Research/HW8/HW8.ipynb#X11sZmlsZQ%3D%3D?line=15'>16</a>\u001b[0m     \u001b[39mprint\u001b[39m(\u001b[39m'\u001b[39m\u001b[39m%s\u001b[39;00m\u001b[39m: \u001b[39m\u001b[39m%f\u001b[39;00m\u001b[39m'\u001b[39m \u001b[39m%\u001b[39m (v\u001b[39m.\u001b[39mvarName, v\u001b[39m.\u001b[39mx))\n\u001b[1;32m     <a href='vscode-notebook-cell:/Users/jasper/Operation%20Research/HW8/HW8.ipynb#X11sZmlsZQ%3D%3D?line=16'>17</a>\u001b[0m \u001b[39mprint\u001b[39m(\u001b[39m'\u001b[39m\u001b[39mObj: \u001b[39m\u001b[39m%f\u001b[39;00m\u001b[39m'\u001b[39m \u001b[39m%\u001b[39m m\u001b[39m.\u001b[39mobjVal)\n",
      "File \u001b[0;32msrc/gurobipy/var.pxi:125\u001b[0m, in \u001b[0;36mgurobipy.Var.__getattr__\u001b[0;34m()\u001b[0m\n",
      "File \u001b[0;32msrc/gurobipy/var.pxi:153\u001b[0m, in \u001b[0;36mgurobipy.Var.getAttr\u001b[0;34m()\u001b[0m\n",
      "File \u001b[0;32msrc/gurobipy/attrutil.pxi:100\u001b[0m, in \u001b[0;36mgurobipy.__getattr\u001b[0;34m()\u001b[0m\n",
      "\u001b[0;31mAttributeError\u001b[0m: Unable to retrieve attribute 'x'"
     ]
    }
   ],
   "source": [
    "m = Model(\"L8\")\n",
    "x1 = m.addVar(vtype='C', name=\"x1\", obj = 2)\n",
    "x2 = m.addVar(vtype='C', name=\"x2\", obj = 3)\n",
    "m.setAttr('ModelSense', GRB.MAXIMIZE)\n",
    "# Variables and attributes are set in a lazy fashion\n",
    "# in Gurobi. You need to update() to make it effective.\n",
    "m.update()\n",
    "m.addConstr(2 * x1 + x2 <= 10, \"c0\")\n",
    "m.addConstr(15 * x1 + 30 * x2 <= 200,\"c1\")\n",
    "m.addConstr(x2 >= 7,\"c2\")\n",
    "m.addConstr(x1 <= 1,\"c3\")\n",
    "m.setParam('OutputFlag', False )\n",
    "m.optimize()\n",
    "print('Optimal from MIP solver:')\n",
    "for v in m.getVars():\n",
    "    print('%s: %f' % (v.varName, v.x))\n",
    "print('Obj: %f' % m.objVal)"
   ]
  },
  {
   "cell_type": "code",
   "execution_count": 19,
   "metadata": {},
   "outputs": [
    {
     "name": "stdout",
     "output_type": "stream",
     "text": [
      "Optimal from MIP solver:\n",
      "x1: 1.000000\n",
      "x2: 6.000000\n",
      "Obj: 20.000000\n"
     ]
    }
   ],
   "source": [
    "#Evaluation\n",
    "m = Model(\"Evaluation\")\n",
    "x1 = m.addVar(vtype='I', name=\"x1\", obj = 2)\n",
    "x2 = m.addVar(vtype='I', name=\"x2\", obj = 3)\n",
    "m.setAttr('ModelSense', GRB.MAXIMIZE)\n",
    "# Variables and attributes are set in a lazy fashion\n",
    "# in Gurobi. You need to update() to make it effective.\n",
    "m.update()\n",
    "m.addConstr(2 * x1 + x2 <= 10, \"c0\")\n",
    "m.addConstr(15 * x1 + 30 * x2 <= 200,\"c1\")\n",
    "m.setParam('OutputFlag', False )\n",
    "m.optimize()\n",
    "print('Optimal from MIP solver:')\n",
    "for v in m.getVars():\n",
    "    print('%s: %f' % (v.varName, v.x))\n",
    "print('Obj: %f' % m.objVal)"
   ]
  }
 ],
 "metadata": {
  "language_info": {
   "name": "python"
  }
 },
 "nbformat": 4,
 "nbformat_minor": 2
}
