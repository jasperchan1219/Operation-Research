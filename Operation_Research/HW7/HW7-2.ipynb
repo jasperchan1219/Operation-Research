{
 "cells": [
  {
   "cell_type": "code",
   "execution_count": 5,
   "metadata": {},
   "outputs": [
    {
     "name": "stdout",
     "output_type": "stream",
     "text": [
      "Gurobi Optimizer version 10.0.3 build v10.0.3rc0 (mac64[arm])\n",
      "\n",
      "CPU model: Apple M1 Pro\n",
      "Thread count: 8 physical cores, 8 logical processors, using up to 8 threads\n",
      "\n",
      "Optimize a model with 5 rows, 6 columns and 12 nonzeros\n",
      "Model fingerprint: 0xd84deecd\n",
      "Variable types: 0 continuous, 6 integer (0 binary)\n",
      "Coefficient statistics:\n",
      "  Matrix range     [1e+00, 1e+00]\n",
      "  Objective range  [3e+00, 7e+00]\n",
      "  Bounds range     [0e+00, 0e+00]\n",
      "  RHS range        [8e+00, 2e+01]\n",
      "Presolve removed 5 rows and 6 columns\n",
      "Presolve time: 0.00s\n",
      "Presolve: All rows and columns removed\n",
      "\n",
      "Explored 0 nodes (0 simplex iterations) in 0.00 seconds (0.00 work units)\n",
      "Thread count was 1 (of 8 available processors)\n",
      "\n",
      "Solution count 1: 153 \n",
      "\n",
      "Optimal solution found (tolerance 1.00e-04)\n",
      "Best objective 1.530000000000e+02, best bound 1.530000000000e+02, gap 0.0000%\n",
      "x[0,0]: 7\n",
      "x[0,1]: 8\n",
      "x[0,2]: 0\n",
      "x[1,0]: 10\n",
      "x[1,1]: 0\n",
      "x[1,2]: 10\n",
      "Obj: 153.000000\n"
     ]
    }
   ],
   "source": [
    "from gurobipy import *\n",
    "import numpy as np\n",
    "\n",
    "model = Model(\"mip\")\n",
    "\n",
    "s = np.array([15, 20])\n",
    "d = np.array([17, 8, 10])\n",
    "\n",
    "x = model.addMVar((2, 3), vtype='I', name='x')\n",
    "\n",
    "model.update()\n",
    "\n",
    "c = np.array([[3, 4, 6],\n",
    "            [5, 7, 5]])\n",
    "\n",
    "obj = quicksum(c[i,j]*x[i,j] for i in range(2) for j in range(3))\n",
    "model.setObjective(obj,GRB.MINIMIZE)\n",
    "\n",
    "for i in range(2):\n",
    "     model.addConstr(quicksum(x[i,j] for j in range(3)) <= s[i],'supply_%s' % (i))\n",
    "for j in range(3):\n",
    "    model.addConstr(quicksum(x[i,j] for i in range(2)) >= d[j],'demand_%s' % (j))\n",
    "\n",
    "model.optimize()\n",
    "for v in model.getVars():\n",
    "    print('%s: %d' % (v.varName, v.x))\n",
    "print('Obj: %f' % model.objVal)\n"
   ]
  }
 ],
 "metadata": {
  "kernelspec": {
   "display_name": "base",
   "language": "python",
   "name": "python3"
  },
  "language_info": {
   "codemirror_mode": {
    "name": "ipython",
    "version": 3
   },
   "file_extension": ".py",
   "mimetype": "text/x-python",
   "name": "python",
   "nbconvert_exporter": "python",
   "pygments_lexer": "ipython3",
   "version": "3.11.6"
  }
 },
 "nbformat": 4,
 "nbformat_minor": 2
}
