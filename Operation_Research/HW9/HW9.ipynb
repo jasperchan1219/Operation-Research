{
 "cells": [
  {
   "cell_type": "code",
   "execution_count": 2,
   "metadata": {},
   "outputs": [],
   "source": [
    "from gurobipy import *\n",
    "import numpy as np\n",
    "import pandas as pd\n",
    "import math\n",
    "\n",
    "#set model\n",
    "m = Model(\"LRP\")\n",
    "#set variables\n",
    "x1 = m.addVar(vtype='B', name=\"x1\")\n",
    "x2 = m.addVar(vtype='B', name=\"x2\")\n",
    "x3 = m.addVar(vtype='B', name=\"x3\")\n",
    "x4 = m.addVar(vtype='B', name=\"x4\")\n",
    "m.setAttr('ModelSense', GRB.MAXIMIZE)\n",
    "#set constraint\n",
    "m.addConstr(8*x1 + 2*x2 + x3 + 4*x4 <= 10, \"c0\")\n",
    "count=0\n",
    "df = pd.DataFrame(columns=['k','tk','lambda_k','v1','v2','x1','x2','x3','x4','Zd(v1,v2)','Value of Lagrangian solution'])\n",
    "Z_star = 0\n",
    "df.at[0,'lambda_k']=2\n",
    "#iteration 1~10\n",
    "for i in range(10):\n",
    "    df.at[i,'k']=i+1\n",
    "    if i == 0:\n",
    "        df.at[i,'v1'] = 0\n",
    "        df.at[i,'v2'] = 0\n",
    "        m.setObjective((16-df.at[i,'v1'])*x1+(10-df.at[i,'v1'])*x2+\n",
    "                       (-df.at[i,'v2'])*x3+(4-df.at[i,'v2'])*x4+df.at[i,'v1']+df.at[i,'v2'])\n",
    "        m.update()\n",
    "        m.setParam('OutputFlag', False )\n",
    "        m.optimize()\n",
    "        for v in m.getVars():\n",
    "            df.at[i,v.varName] = v.x\n",
    "        df.at[i,'Zd(v1,v2)'] = m.objVal\n",
    "        if df.at[i,'x1']+df.at[i,'x2']<=1 and df.at[i,'x3']+df.at[i,'x4']<=1:\n",
    "            df.at[i,'Value of Lagrangian solution'] = 16*df.at[i,'x1']+10*df.at[i,'x2']+4*df.at[i,'x4']\n",
    "            Z_star = df.at[i,'Value of Lagrangian solution']\n",
    "        else:\n",
    "            df.at[i,'Value of Lagrangian solution']= \"infeasible\"\n",
    "    else:\n",
    "        m.setObjective((16-df.at[i,'v1'])*x1+(10-df.at[i,'v1'])*x2+\n",
    "                       (-df.at[i,'v2'])*x3+(4-df.at[i,'v2'])*x4+df.at[i,'v1']+df.at[i,'v2'])\n",
    "        m.update()\n",
    "        m.setParam('OutputFlag', False )\n",
    "        m.optimize()\n",
    "        for v in m.getVars():\n",
    "            df.at[i,v.varName] = v.x\n",
    "        df.at[i,'Zd(v1,v2)'] = m.objVal\n",
    "        if df.at[i,'Zd(v1,v2)'] >= df.at[i-1,'Zd(v1,v2)']:\n",
    "            count = count+1\n",
    "        #calculate value of Lagrangian solution\n",
    "        if df.at[i,'x1']+df.at[i,'x2']<=1 and df.at[i,'x3']+df.at[i,'x4']<=1:\n",
    "            df.at[i,'Value of Lagrangian solution'] = 16*df.at[i,'x1']+10*df.at[i,'x2']+4*df.at[i,'x4']\n",
    "            Z_star = df.at[i,'Value of Lagrangian solution']\n",
    "        else:\n",
    "            df.at[i,'Value of Lagrangian solution']= \"infeasible\"\n",
    "        #update lambda_k if needed\n",
    "        if count >= 2:\n",
    "            df.at[i,'lambda_k'] = df.at[i-1,'lambda_k']/2\n",
    "            count=0\n",
    "        else:\n",
    "            df.at[i,'lambda_k'] = df.at[i-1,'lambda_k']\n",
    "    #update tk\n",
    "    df.at[i,'tk'] = df.at[i,'lambda_k']*(df.at[i,'Zd(v1,v2)']-Z_star)/(math.pow(1-df.at[i,'x1']-df.at[i,'x2'],2)+math.pow(1-df.at[i,'x3']-df.at[i,'x4'],2))\n",
    "    #update next time v1 and v2a\n",
    "    df.at[i+1,'v1'] = max(0,(df.at[i,'v1']-df.at[i,'tk']*(1-df.at[i,'x1']-df.at[i,'x2'])))\n",
    "    df.at[i+1,'v2'] = max(0,(df.at[i,'v2']-df.at[i,'tk']*(1-df.at[i,'x3']-df.at[i,'x4'])))"
   ]
  },
  {
   "cell_type": "code",
   "execution_count": 3,
   "metadata": {},
   "outputs": [
    {
     "name": "stdout",
     "output_type": "stream",
     "text": [
      "      k    tk lambda_k    v1 v2   x1   x2   x3   x4 Zd(v1,v2)  \\\n",
      "0     1  26.0        2     0  0  1.0  1.0  0.0  0.0      26.0   \n",
      "1     2  52.0        2  26.0  0  0.0  0.0  0.0  1.0      30.0   \n",
      "2     3  22.0        2     0  0  1.0  1.0  0.0  0.0      26.0   \n",
      "3     4  22.0      1.0  22.0  0  0.0  0.0  0.0  1.0      26.0   \n",
      "4     5  11.0      1.0     0  0  1.0  1.0  0.0  0.0      26.0   \n",
      "5     6   0.0      1.0  11.0  0  1.0  0.0  0.0  0.0      16.0   \n",
      "6     7   0.0      0.5  11.0  0  1.0  0.0  0.0  0.0      16.0   \n",
      "7     8   0.0      0.5  11.0  0  1.0  0.0  0.0  0.0      16.0   \n",
      "8     9   0.0     0.25  11.0  0  1.0  0.0  0.0  0.0      16.0   \n",
      "9    10   0.0     0.25  11.0  0  1.0  0.0  0.0  0.0      16.0   \n",
      "10  NaN   NaN      NaN  11.0  0  NaN  NaN  NaN  NaN       NaN   \n",
      "\n",
      "   Value of Lagrangian solution  \n",
      "0                    infeasible  \n",
      "1                           4.0  \n",
      "2                    infeasible  \n",
      "3                           4.0  \n",
      "4                    infeasible  \n",
      "5                          16.0  \n",
      "6                          16.0  \n",
      "7                          16.0  \n",
      "8                          16.0  \n",
      "9                          16.0  \n",
      "10                          NaN  \n"
     ]
    }
   ],
   "source": [
    "pd.set_option('display.max_columns', None)\n",
    "print(df)"
   ]
  },
  {
   "cell_type": "code",
   "execution_count": 6,
   "metadata": {},
   "outputs": [
    {
     "name": "stdout",
     "output_type": "stream",
     "text": [
      "final_gap = 0.000000%\n"
     ]
    }
   ],
   "source": [
    "print(\"final_gap = %f\"%((df.at[9,'Zd(v1,v2)']-Z_star)/Z_star*100)+\"%\")"
   ]
  }
 ],
 "metadata": {
  "kernelspec": {
   "display_name": "base",
   "language": "python",
   "name": "python3"
  },
  "language_info": {
   "codemirror_mode": {
    "name": "ipython",
    "version": 3
   },
   "file_extension": ".py",
   "mimetype": "text/x-python",
   "name": "python",
   "nbconvert_exporter": "python",
   "pygments_lexer": "ipython3",
   "version": "3.11.6"
  }
 },
 "nbformat": 4,
 "nbformat_minor": 2
}
