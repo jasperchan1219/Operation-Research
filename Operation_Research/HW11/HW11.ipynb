{
 "cells": [
  {
   "cell_type": "code",
   "execution_count": 26,
   "metadata": {},
   "outputs": [
    {
     "name": "stdout",
     "output_type": "stream",
     "text": [
      "x1: 48.500000\n",
      "x2: 305.000000\n",
      "x3: 131.666667\n",
      "x4: 30.142857\n",
      "Obj: 515.309524\n",
      "shadow prices: \n",
      "    [0.5, 0.5, 0.3333333333333333, 0.14285714285714285]\n"
     ]
    }
   ],
   "source": [
    "from gurobipy import *\n",
    "m = Model(\"RMP1\")\n",
    "m.setParam('OutputFlag', False)\n",
    "x1 = m.addVar(name=\"x1\", obj=1.0)\n",
    "x2 = m.addVar(name=\"x2\", obj=1.0)\n",
    "x3 = m.addVar(name=\"x3\", obj=1.0)\n",
    "x4 = m.addVar(name=\"x4\", obj=1.0)\n",
    "m.setAttr('ModelSense', GRB.MINIMIZE)\n",
    "m.update()\n",
    "c1 = m.addConstr(2*x1             >= 97, name=\"c1\")\n",
    "c2 = m.addConstr(    2*x2         >= 610, name=\"c2\")\n",
    "c3 = m.addConstr(        3*x3     >= 395, name=\"c3\")\n",
    "c4 = m.addConstr(            7*x4 >= 211, name=\"c4\")\n",
    "m.optimize()\n",
    "for v in m.getVars():\n",
    "    print('%s: %f' % (v.varName, v.x))\n",
    "print('Obj: %f' % m.objVal)\n",
    "print('shadow prices: ' )\n",
    "print('   ', m.getAttr(GRB.Attr.Pi)) # shadow prices\n",
    "pi1 = c1.pi\n",
    "pi2 = c2.pi\n",
    "pi3 = c3.pi\n",
    "pi4 = c4.pi"
   ]
  },
  {
   "cell_type": "code",
   "execution_count": 27,
   "metadata": {},
   "outputs": [
    {
     "name": "stdout",
     "output_type": "stream",
     "text": [
      "a1: -0.000000\n",
      "a2: 2.000000\n",
      "a3: 0.000000\n",
      "a4: 2.000000\n",
      "SP Opt: 1.285714\n",
      "c: -0.285714\n"
     ]
    }
   ],
   "source": [
    "m = Model(\"SP1\")\n",
    "m.setParam('OutputFlag', False)\n",
    "a1 = m.addVar(vtype='I', name=\"a1\", obj=pi1)\n",
    "a2 = m.addVar(vtype='I', name=\"a2\", obj=pi2)\n",
    "a3 = m.addVar(vtype='I', name=\"a3\", obj=pi3)\n",
    "a4 = m.addVar(vtype='I', name=\"a4\", obj=pi4)\n",
    "m.setAttr('ModelSense', GRB.MAXIMIZE)\n",
    "m.update()\n",
    "c_1 = m.addConstr(45*a1+36*a2+31*a3+14*a4 <= 100, name=\"c_1\")\n",
    "m.optimize()\n",
    "for v in m.getVars():\n",
    "    print('%s: %f' % (v.varName, v.x))\n",
    "print('SP Opt: %f' % m.objVal)\n",
    "print('c: %f' % (1-m.objVal))"
   ]
  },
  {
   "cell_type": "code",
   "execution_count": 28,
   "metadata": {},
   "outputs": [
    {
     "name": "stdout",
     "output_type": "stream",
     "text": [
      "x1: 48.500000\n",
      "x2: 199.500000\n",
      "x3: 131.666667\n",
      "x4: 0.000000\n",
      "x5: 105.500000\n",
      "Obj: 485.166667\n",
      "shadow prices: \n",
      "    [0.5, 0.5, 0.3333333333333333, -0.0]\n"
     ]
    }
   ],
   "source": [
    "from gurobipy import *\n",
    "m = Model(\"RMP2\")\n",
    "m.setParam('OutputFlag', False)\n",
    "x1 = m.addVar(name=\"x1\", obj=1.0)\n",
    "x2 = m.addVar(name=\"x2\", obj=1.0)\n",
    "x3 = m.addVar(name=\"x3\", obj=1.0)\n",
    "x4 = m.addVar(name=\"x4\", obj=1.0)\n",
    "x5 = m.addVar(name=\"x5\", obj=1.0)\n",
    "m.setAttr('ModelSense', GRB.MINIMIZE)\n",
    "m.update()\n",
    "c1 = m.addConstr(2*x1                  >= 97, name=\"c1\")\n",
    "c2 = m.addConstr(    2*x2        +2*x5 >= 610, name=\"c2\")\n",
    "c3 = m.addConstr(        3*x3          >= 395, name=\"c3\")\n",
    "c4 = m.addConstr(            7*x4+2*x5 >= 211, name=\"c4\")\n",
    "m.optimize()\n",
    "for v in m.getVars():\n",
    "    print('%s: %f' % (v.varName, v.x))\n",
    "print('Obj: %f' % m.objVal)\n",
    "print('shadow prices: ' )\n",
    "print('   ', m.getAttr(GRB.Attr.Pi)) # shadow prices\n",
    "pi1 = c1.pi\n",
    "pi2 = c2.pi\n",
    "pi3 = c3.pi\n",
    "pi4 = c4.pi"
   ]
  },
  {
   "cell_type": "code",
   "execution_count": 29,
   "metadata": {},
   "outputs": [
    {
     "name": "stdout",
     "output_type": "stream",
     "text": [
      "a1: -0.000000\n",
      "a2: 1.000000\n",
      "a3: 2.000000\n",
      "a4: -0.000000\n",
      "SP Opt: 1.166667\n",
      "c: -0.166667\n"
     ]
    }
   ],
   "source": [
    "m = Model(\"SP2\")\n",
    "m.setParam('OutputFlag', False)\n",
    "a1 = m.addVar(vtype='I', name=\"a1\", obj=pi1)\n",
    "a2 = m.addVar(vtype='I', name=\"a2\", obj=pi2)\n",
    "a3 = m.addVar(vtype='I', name=\"a3\", obj=pi3)\n",
    "a4 = m.addVar(vtype='I', name=\"a4\", obj=pi4)\n",
    "m.setAttr('ModelSense', GRB.MAXIMIZE)\n",
    "m.update()\n",
    "c_1 = m.addConstr(45*a1+36*a2+31*a3+14*a4 <= 100, name=\"c_1\")\n",
    "m.optimize()\n",
    "for v in m.getVars():\n",
    "    print('%s: %f' % (v.varName, v.x))\n",
    "print('SP Opt: %f' % m.objVal)\n",
    "print('c: %f' % (1-m.objVal))"
   ]
  },
  {
   "cell_type": "code",
   "execution_count": 30,
   "metadata": {},
   "outputs": [
    {
     "name": "stdout",
     "output_type": "stream",
     "text": [
      "x1: 48.500000\n",
      "x2: 100.750000\n",
      "x3: 0.000000\n",
      "x4: 0.000000\n",
      "x5: 105.500000\n",
      "x6: 197.500000\n",
      "Obj: 452.250000\n",
      "shadow prices: \n",
      "    [0.5, 0.5, 0.25, -0.0]\n"
     ]
    }
   ],
   "source": [
    "from gurobipy import *\n",
    "m = Model(\"RMP3\")\n",
    "m.setParam('OutputFlag', False)\n",
    "x1 = m.addVar(name=\"x1\", obj=1.0)\n",
    "x2 = m.addVar(name=\"x2\", obj=1.0)\n",
    "x3 = m.addVar(name=\"x3\", obj=1.0)\n",
    "x4 = m.addVar(name=\"x4\", obj=1.0)\n",
    "x5 = m.addVar(name=\"x5\", obj=1.0)\n",
    "x6 = m.addVar(name=\"x6\", obj=1.0)\n",
    "m.setAttr('ModelSense', GRB.MINIMIZE)\n",
    "m.update()\n",
    "c1 = m.addConstr(2*x1                       >= 97, name=\"c1\")\n",
    "c2 = m.addConstr(    2*x2        +2*x5+x6   >= 610, name=\"c2\")\n",
    "c3 = m.addConstr(        3*x3         +2*x6 >= 395, name=\"c3\")\n",
    "c4 = m.addConstr(            7*x4+2*x5      >= 211, name=\"c4\")\n",
    "m.optimize()\n",
    "for v in m.getVars():\n",
    "    print('%s: %f' % (v.varName, v.x))\n",
    "print('Obj: %f' % m.objVal)\n",
    "print('shadow prices: ' )\n",
    "print('   ', m.getAttr(GRB.Attr.Pi)) # shadow prices\n",
    "pi1 = c1.pi\n",
    "pi2 = c2.pi\n",
    "pi3 = c3.pi\n",
    "pi4 = c4.pi"
   ]
  },
  {
   "cell_type": "code",
   "execution_count": 31,
   "metadata": {},
   "outputs": [
    {
     "name": "stdout",
     "output_type": "stream",
     "text": [
      "a1: -0.000000\n",
      "a2: 2.000000\n",
      "a3: 0.000000\n",
      "a4: -0.000000\n",
      "SP Opt: 1.000000\n",
      "c: 0.000000\n"
     ]
    }
   ],
   "source": [
    "m = Model(\"SP3\")\n",
    "m.setParam('OutputFlag', False)\n",
    "a1 = m.addVar(vtype='I', name=\"a1\", obj=pi1)\n",
    "a2 = m.addVar(vtype='I', name=\"a2\", obj=pi2)\n",
    "a3 = m.addVar(vtype='I', name=\"a3\", obj=pi3)\n",
    "a4 = m.addVar(vtype='I', name=\"a4\", obj=pi4)\n",
    "m.setAttr('ModelSense', GRB.MAXIMIZE)\n",
    "m.update()\n",
    "c_1 = m.addConstr(45*a1+36*a2+31*a3+14*a4 <= 100, name=\"c_1\")\n",
    "m.optimize()\n",
    "for v in m.getVars():\n",
    "    print('%s: %f' % (v.varName, v.x))\n",
    "print('SP Opt: %f' % m.objVal)\n",
    "print('c: %f' % (1-m.objVal))"
   ]
  },
  {
   "cell_type": "code",
   "execution_count": 32,
   "metadata": {},
   "outputs": [
    {
     "name": "stdout",
     "output_type": "stream",
     "text": [
      "x1: 48.500000\n",
      "x2: 100.750000\n",
      "x3: 0.000000\n",
      "x4: 0.000000\n",
      "x5: 105.500000\n",
      "x6: 197.500000\n",
      "x7: 0.000000\n",
      "Obj: 452.250000\n",
      "shadow prices: \n",
      "    [0.5, 0.5, 0.25, -0.0]\n"
     ]
    }
   ],
   "source": [
    "from gurobipy import *\n",
    "m = Model(\"RMP4\")\n",
    "m.setParam('OutputFlag', False)\n",
    "x1 = m.addVar(name=\"x1\", obj=1.0)\n",
    "x2 = m.addVar(name=\"x2\", obj=1.0)\n",
    "x3 = m.addVar(name=\"x3\", obj=1.0)\n",
    "x4 = m.addVar(name=\"x4\", obj=1.0)\n",
    "x5 = m.addVar(name=\"x5\", obj=1.0)\n",
    "x6 = m.addVar(name=\"x6\", obj=1.0)\n",
    "x7 = m.addVar(name=\"x7\", obj=1.0)\n",
    "m.setAttr('ModelSense', GRB.MINIMIZE)\n",
    "m.update()\n",
    "c1 = m.addConstr(2*x1                            >= 97, name=\"c1\")\n",
    "c2 = m.addConstr(    2*x2        +2*x5+x6  +2*x7 >= 610, name=\"c2\")\n",
    "c3 = m.addConstr(        3*x3         +2*x6      >= 395, name=\"c3\")\n",
    "c4 = m.addConstr(            7*x4+2*x5           >= 211, name=\"c4\")\n",
    "m.optimize()\n",
    "for v in m.getVars():\n",
    "    print('%s: %f' % (v.varName, v.x))\n",
    "print('Obj: %f' % m.objVal)\n",
    "print('shadow prices: ' )\n",
    "print('   ', m.getAttr(GRB.Attr.Pi)) # shadow prices\n",
    "pi1 = c1.pi\n",
    "pi2 = c2.pi\n",
    "pi3 = c3.pi\n",
    "pi4 = c4.pi"
   ]
  },
  {
   "cell_type": "code",
   "execution_count": 33,
   "metadata": {},
   "outputs": [
    {
     "name": "stdout",
     "output_type": "stream",
     "text": [
      "a1: -0.000000\n",
      "a2: 2.000000\n",
      "a3: 0.000000\n",
      "a4: -0.000000\n",
      "SP Opt: 1.000000\n",
      "c: 0.000000\n"
     ]
    }
   ],
   "source": [
    "m = Model(\"SP4\")\n",
    "m.setParam('OutputFlag', False)\n",
    "a1 = m.addVar(vtype='I', name=\"a1\", obj=pi1)\n",
    "a2 = m.addVar(vtype='I', name=\"a2\", obj=pi2)\n",
    "a3 = m.addVar(vtype='I', name=\"a3\", obj=pi3)\n",
    "a4 = m.addVar(vtype='I', name=\"a4\", obj=pi4)\n",
    "m.setAttr('ModelSense', GRB.MAXIMIZE)\n",
    "m.update()\n",
    "c_1 = m.addConstr(45*a1+36*a2+31*a3+14*a4 <= 100, name=\"c_1\")\n",
    "m.optimize()\n",
    "for v in m.getVars():\n",
    "    print('%s: %f' % (v.varName, v.x))\n",
    "print('SP Opt: %f' % m.objVal)\n",
    "print('c: %f' % (1-m.objVal))"
   ]
  }
 ],
 "metadata": {
  "kernelspec": {
   "display_name": "base",
   "language": "python",
   "name": "python3"
  },
  "language_info": {
   "codemirror_mode": {
    "name": "ipython",
    "version": 3
   },
   "file_extension": ".py",
   "mimetype": "text/x-python",
   "name": "python",
   "nbconvert_exporter": "python",
   "pygments_lexer": "ipython3",
   "version": "3.11.6"
  }
 },
 "nbformat": 4,
 "nbformat_minor": 2
}
