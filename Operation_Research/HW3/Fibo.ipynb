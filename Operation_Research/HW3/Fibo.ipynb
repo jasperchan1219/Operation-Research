{
 "cells": [
  {
   "cell_type": "code",
   "execution_count": 24,
   "metadata": {},
   "outputs": [
    {
     "name": "stdout",
     "output_type": "stream",
     "text": [
      "The Fibonacci sequence =\n",
      "1 1 2 3 5 8 13 21 "
     ]
    }
   ],
   "source": [
    "num = int(input(\"Please input the term n for the Fibonacci sequence: \"))\n",
    "fib = []\n",
    "for i in range(num):\n",
    "    if i == 0 or i == 1:\n",
    "        fib.append(1)\n",
    "    else:\n",
    "        fn = fib[i-1]+fib[i-2]\n",
    "        fib.append(fn)\n",
    "print(\"The Fibonacci sequence =\")\n",
    "for x in range(num):\n",
    "    print(fib[x], end =\" \")"
   ]
  }
 ],
 "metadata": {
  "kernelspec": {
   "display_name": "Python 3",
   "language": "python",
   "name": "python3"
  },
  "language_info": {
   "codemirror_mode": {
    "name": "ipython",
    "version": 3
   },
   "file_extension": ".py",
   "mimetype": "text/x-python",
   "name": "python",
   "nbconvert_exporter": "python",
   "pygments_lexer": "ipython3",
   "version": "3.9.12"
  },
  "orig_nbformat": 4
 },
 "nbformat": 4,
 "nbformat_minor": 2
}
