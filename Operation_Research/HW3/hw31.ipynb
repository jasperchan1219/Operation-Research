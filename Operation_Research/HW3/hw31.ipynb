{
 "cells": [
  {
   "cell_type": "code",
   "execution_count": 7,
   "metadata": {},
   "outputs": [
    {
     "name": "stdout",
     "output_type": "stream",
     "text": [
      "integers from 1 to 50 divisible by 11: 11 22 33 44 \n",
      "integers from 1 to 30 divisible by 5 or 7: 5 7 10 14 15 20 21 25 28 30 \n",
      "integers fom 1 to 30 divisible by 2 and 7: 14 28 \n",
      "integers from 1 to 20 not divisible by 2 nor 7: 1 3 5 9 11 13 15 17 19 \n"
     ]
    }
   ],
   "source": [
    "str11 = \"\"\n",
    "str57 = \"\"\n",
    "str27 = \"\"\n",
    "strno27 = \"\"\n",
    "for i in range(1, 51):\n",
    "    if i % 11 == 0:\n",
    "        str11 += str(i)\n",
    "        str11 += \" \"\n",
    "for j in range(1, 31):\n",
    "    if (j % 5 == 0) or (j % 7 == 0):\n",
    "        str57 += str(j)\n",
    "        str57 += \" \"\n",
    "    if (j % 2 == 0) and (j % 7 == 0):\n",
    "        str27 += str(j)\n",
    "        str27 += \" \"\n",
    "for k in range(1, 21):\n",
    "    if (k % 2 != 0) and (k % 7 != 0):\n",
    "        strno27 += str(k)\n",
    "        strno27 += \" \"\n",
    "\n",
    "print(\"integers from 1 to 50 divisible by 11: \"+str11)\n",
    "print(\"integers from 1 to 30 divisible by 5 or 7: \"+str57)\n",
    "print(\"integers fom 1 to 30 divisible by 2 and 7: \"+str27)\n",
    "print(\"integers from 1 to 20 not divisible by 2 nor 7: \"+strno27)"
   ]
  }
 ],
 "metadata": {
  "kernelspec": {
   "display_name": "Python 3",
   "language": "python",
   "name": "python3"
  },
  "language_info": {
   "codemirror_mode": {
    "name": "ipython",
    "version": 3
   },
   "file_extension": ".py",
   "mimetype": "text/x-python",
   "name": "python",
   "nbconvert_exporter": "python",
   "pygments_lexer": "ipython3",
   "version": "3.9.12"
  },
  "orig_nbformat": 4
 },
 "nbformat": 4,
 "nbformat_minor": 2
}
